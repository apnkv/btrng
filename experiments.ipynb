{
 "cells": [
  {
   "cell_type": "code",
   "execution_count": 14,
   "metadata": {},
   "outputs": [],
   "source": [
    "from IPython.core.interactiveshell import InteractiveShell\n",
    "InteractiveShell.ast_node_interactivity = \"all\"\n",
    "\n",
    "%load_ext autoreload\n",
    "%autoreload 2"
   ]
  },
  {
   "cell_type": "code",
   "execution_count": 43,
   "metadata": {},
   "outputs": [],
   "source": [
    "import os\n",
    "import numpy as np\n",
    "import hashlib\n",
    "from PIL import Image\n",
    "\n",
    "import camera_hash\n",
    "from utils import numpy_arrays_from_paths"
   ]
  },
  {
   "cell_type": "code",
   "execution_count": 39,
   "metadata": {},
   "outputs": [],
   "source": [
    "def gen_random_numpy(nbits=64, seed=7):\n",
    "    np.random.seed(seed)\n",
    "    nbytes = nbits // 8 \n",
    "    rand = np.random.randint(0, 2**8, nbytes).tolist()\n",
    "    return bytes(rand)"
   ]
  },
  {
   "cell_type": "code",
   "execution_count": 40,
   "metadata": {},
   "outputs": [],
   "source": [
    "outfile='randnum_numpy.bin'\n",
    "rand = gen_random_numpy(nbits=2**20)\n",
    "with open(outfile, 'wb') as f:\n",
    "    _= f.write(rand)"
   ]
  },
  {
   "cell_type": "code",
   "execution_count": null,
   "metadata": {},
   "outputs": [],
   "source": []
  },
  {
   "cell_type": "code",
   "execution_count": 41,
   "metadata": {},
   "outputs": [],
   "source": [
    "n_photos = 2\n",
    "photos_paths = [os.path.join('./camera_noise', path) for path in os.listdir('./camera_noise')[:n_photos]]\n",
    "frames = numpy_arrays_from_paths(photos_paths)"
   ]
  },
  {
   "cell_type": "code",
   "execution_count": 42,
   "metadata": {},
   "outputs": [],
   "source": [
    "outfile='randnum_camera_hash.bin'\n",
    "rand = camera_hash.random_bits(frames, nbits=2**20)\n",
    "with open(outfile, 'wb') as f:\n",
    "    _= f.write(rand)"
   ]
  },
  {
   "cell_type": "code",
   "execution_count": null,
   "metadata": {},
   "outputs": [],
   "source": []
  },
  {
   "cell_type": "code",
   "execution_count": null,
   "metadata": {},
   "outputs": [],
   "source": []
  },
  {
   "cell_type": "code",
   "execution_count": 44,
   "metadata": {},
   "outputs": [],
   "source": [
    "import numpy as np\n",
    "from PIL import Image\n",
    "\n",
    "import matplotlib.pyplot as plt\n",
    "%matplotlib inline"
   ]
  },
  {
   "cell_type": "code",
   "execution_count": 157,
   "metadata": {},
   "outputs": [],
   "source": [
    "mydir = 'C:\\\\Users\\\\jurg96\\\\jurg96-windows\\\\Фото с айфона'\n",
    "\n",
    "ratios = []\n",
    "i = -1\n",
    "for file in os.listdir(mydir):\n",
    "    i+=1\n",
    "    if i == 500:\n",
    "        break\n",
    "    if not file.endswith('.JPG'):\n",
    "        continue\n",
    "    \n",
    "    try:\n",
    "        img = Image.open(os.path.join(mydir, file))\n",
    "        data = np.array(img).astype(np.uint8)\n",
    "    #     data = data[:,:,0]\n",
    "        data = np.round(np.mean(data, axis=2))\n",
    "\n",
    "        nbits = 1\n",
    "        data = (data % 2**(nbits))\n",
    "        ratios.append(data.sum() / len(data.flatten()))\n",
    "    except:\n",
    "        pass"
   ]
  },
  {
   "cell_type": "code",
   "execution_count": 161,
   "metadata": {},
   "outputs": [
    {
     "data": {
      "text/plain": [
       "(array([  1.,   0.,   0.,   1.,   0.,   2.,   0.,   0.,   0.,  10., 351.,\n",
       "         31.,  13.,  16.,   8.,   5.,   3.,   3.,   3.,   1.,   1.,   0.,\n",
       "          1.,   0.,   0.,   0.,   2.,   0.,   0.,   3.,   1.,   0.,   0.,\n",
       "          0.,   1.]),\n",
       " array([0.38308959, 0.39423981, 0.40539003, 0.41654026, 0.42769048,\n",
       "        0.4388407 , 0.44999092, 0.46114115, 0.47229137, 0.48344159,\n",
       "        0.49459182, 0.50574204, 0.51689226, 0.52804249, 0.53919271,\n",
       "        0.55034293, 0.56149315, 0.57264338, 0.5837936 , 0.59494382,\n",
       "        0.60609405, 0.61724427, 0.62839449, 0.63954471, 0.65069494,\n",
       "        0.66184516, 0.67299538, 0.68414561, 0.69529583, 0.70644605,\n",
       "        0.71759628, 0.7287465 , 0.73989672, 0.75104694, 0.76219717,\n",
       "        0.77334739]),\n",
       " <a list of 35 Patch objects>)"
      ]
     },
     "execution_count": 161,
     "metadata": {},
     "output_type": "execute_result"
    },
    {
     "data": {
      "image/png": "[encoded data removed]",
      "text/plain": [
       "<Figure size 432x288 with 1 Axes>"
      ]
     },
     "metadata": {
      "needs_background": "light"
     },
     "output_type": "display_data"
    }
   ],
   "source": [
    "plt.hist(ratios, bins=35)"
   ]
  }
 ],
 "metadata": {
  "kernelspec": {
   "display_name": "Python3 (main-env)",
   "language": "python",
   "name": "main-env"
  },
  "language_info": {
   "codemirror_mode": {
    "name": "ipython",
    "version": 3
   },
   "file_extension": ".py",
   "mimetype": "text/x-python",
   "name": "python",
   "nbconvert_exporter": "python",
   "pygments_lexer": "ipython3",
   "version": "3.6.6"
  }
 },
 "nbformat": 4,
 "nbformat_minor": 2
}
